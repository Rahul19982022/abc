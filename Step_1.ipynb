{
  "cells": [
    {
      "cell_type": "markdown",
      "metadata": {
        "id": "view-in-github",
        "colab_type": "text"
      },
      "source": [
        "<a href=\"https://colab.research.google.com/github/Rahul19982022/abc/blob/main/Step_1.ipynb\" target=\"_parent\"><img src=\"https://colab.research.google.com/assets/colab-badge.svg\" alt=\"Open In Colab\"/></a>"
      ]
    },
    {
      "cell_type": "code",
      "execution_count": null,
      "id": "1a4cfc5a",
      "metadata": {
        "id": "1a4cfc5a"
      },
      "outputs": [],
      "source": [
        "import pandas as pd\n",
        "import numpy as np\n",
        "import os\n",
        "import seaborn as sns\n",
        "import matplotlib.pyplot as plt\n",
        "import plotly.express as px\n",
        "import pickle"
      ]
    },
    {
      "cell_type": "code",
      "execution_count": null,
      "id": "aa1e3702",
      "metadata": {
        "id": "aa1e3702",
        "outputId": "dbd132ca-f9f9-4830-9793-87a25b3a55dd"
      },
      "outputs": [
        {
          "data": {
            "text/plain": [
              "'E:\\\\anime_project\\\\notebooks_1'"
            ]
          },
          "execution_count": 2,
          "metadata": {},
          "output_type": "execute_result"
        }
      ],
      "source": [
        "pwd"
      ]
    },
    {
      "cell_type": "code",
      "execution_count": null,
      "id": "504d99c5",
      "metadata": {
        "id": "504d99c5"
      },
      "outputs": [],
      "source": [
        "os.chdir('E:\\\\anime_project\\\\')"
      ]
    },
    {
      "cell_type": "code",
      "execution_count": null,
      "id": "5e1b167a",
      "metadata": {
        "id": "5e1b167a"
      },
      "outputs": [],
      "source": [
        "%%time\n",
        "user_data = pd.read_csv('dataset//animelist.csv')"
      ]
    },
    {
      "cell_type": "code",
      "execution_count": null,
      "id": "23c16ea6",
      "metadata": {
        "id": "23c16ea6"
      },
      "outputs": [],
      "source": [
        "anime = pd.read_csv('dataset//anime.csv')\n",
        "watching_status = pd.read_csv('dataset//watching_status.csv')"
      ]
    },
    {
      "cell_type": "code",
      "execution_count": null,
      "id": "ad7f6164",
      "metadata": {
        "id": "ad7f6164"
      },
      "outputs": [],
      "source": [
        "watching_status"
      ]
    },
    {
      "cell_type": "code",
      "execution_count": null,
      "id": "f9234f89",
      "metadata": {
        "id": "f9234f89"
      },
      "outputs": [],
      "source": [
        "user_data.head()"
      ]
    },
    {
      "cell_type": "code",
      "execution_count": null,
      "id": "cb54aea4",
      "metadata": {
        "id": "cb54aea4"
      },
      "outputs": [],
      "source": [
        "anime.head(2)"
      ]
    },
    {
      "cell_type": "code",
      "execution_count": null,
      "id": "339bf9f7",
      "metadata": {
        "id": "339bf9f7"
      },
      "outputs": [],
      "source": [
        "anime.info()"
      ]
    },
    {
      "cell_type": "code",
      "execution_count": null,
      "id": "5cd28312",
      "metadata": {
        "id": "5cd28312"
      },
      "outputs": [],
      "source": [
        "user_data.info()"
      ]
    },
    {
      "cell_type": "code",
      "execution_count": null,
      "id": "0acf3ca6",
      "metadata": {
        "id": "0acf3ca6"
      },
      "outputs": [],
      "source": [
        "user_data.max()"
      ]
    },
    {
      "cell_type": "code",
      "execution_count": null,
      "id": "aa4642f2",
      "metadata": {
        "id": "aa4642f2"
      },
      "outputs": [],
      "source": [
        "user_data[user_data['rating'] == 0]"
      ]
    },
    {
      "cell_type": "code",
      "execution_count": null,
      "id": "0df9d0c9",
      "metadata": {
        "id": "0df9d0c9"
      },
      "outputs": [],
      "source": [
        "user_data.loc[user_data['rating'] == 0, 'rating'] = np.nan"
      ]
    },
    {
      "cell_type": "code",
      "execution_count": null,
      "id": "353412e9",
      "metadata": {
        "id": "353412e9"
      },
      "outputs": [],
      "source": [
        "user_data['watching_status'].value_counts()"
      ]
    },
    {
      "cell_type": "code",
      "execution_count": null,
      "id": "1b0b65ba",
      "metadata": {
        "id": "1b0b65ba"
      },
      "outputs": [],
      "source": [
        "user_data[(user_data['watching_status'] >6) | (user_data['watching_status'] == 0)]"
      ]
    },
    {
      "cell_type": "code",
      "execution_count": null,
      "id": "1b4e3a6e",
      "metadata": {
        "id": "1b4e3a6e"
      },
      "outputs": [],
      "source": [
        "anime['episodes'] = anime['Episodes'][anime['Episodes'].str.isnumeric()].astype(int)\n",
        "anime[anime['episodes'].isna()]['Episodes'].value_counts()"
      ]
    },
    {
      "cell_type": "code",
      "execution_count": null,
      "id": "8fe16654",
      "metadata": {
        "id": "8fe16654"
      },
      "outputs": [],
      "source": [
        "user_data['anime_episodes'] = (user_data['anime_id'].map(anime.set_index('MAL_ID')['episodes'])).astype('float32')"
      ]
    },
    {
      "cell_type": "code",
      "execution_count": null,
      "id": "c2348cb8",
      "metadata": {
        "id": "c2348cb8"
      },
      "outputs": [],
      "source": [
        "cond1 = ((user_data['watching_status'] >6) | (user_data['watching_status'] == 0) | (user_data['watching_status'] == 5))\n",
        "cond2 = ((user_data['watched_episodes'] == 0))\n",
        "cond3 = (user_data['watched_episodes'] == user_data['anime_episodes'])\n",
        "\n",
        "user_data.loc[cond1 & cond2, 'watching_status'] = 6\n",
        "user_data.loc[cond1 & cond3, 'watching_status'] = 2\n",
        "user_data.loc[cond1, 'watching_status'] = 1"
      ]
    },
    {
      "cell_type": "code",
      "execution_count": null,
      "id": "8ea6f369",
      "metadata": {
        "id": "8ea6f369"
      },
      "outputs": [],
      "source": [
        "user_data['watching_status'].value_counts().sort_index()"
      ]
    },
    {
      "cell_type": "code",
      "execution_count": null,
      "id": "7d1da28c",
      "metadata": {
        "id": "7d1da28c",
        "outputId": "f4ed196f-13c5-4984-aa1e-fc019f895ad4"
      },
      "outputs": [
        {
          "data": {
            "text/html": [
              "<div>\n",
              "<style scoped>\n",
              "    .dataframe tbody tr th:only-of-type {\n",
              "        vertical-align: middle;\n",
              "    }\n",
              "\n",
              "    .dataframe tbody tr th {\n",
              "        vertical-align: top;\n",
              "    }\n",
              "\n",
              "    .dataframe thead th {\n",
              "        text-align: right;\n",
              "    }\n",
              "</style>\n",
              "<table border=\"1\" class=\"dataframe\">\n",
              "  <thead>\n",
              "    <tr style=\"text-align: right;\">\n",
              "      <th></th>\n",
              "      <th>status</th>\n",
              "      <th>description</th>\n",
              "    </tr>\n",
              "  </thead>\n",
              "  <tbody>\n",
              "    <tr>\n",
              "      <th>0</th>\n",
              "      <td>1</td>\n",
              "      <td>Currently Watching</td>\n",
              "    </tr>\n",
              "    <tr>\n",
              "      <th>1</th>\n",
              "      <td>2</td>\n",
              "      <td>Completed</td>\n",
              "    </tr>\n",
              "    <tr>\n",
              "      <th>2</th>\n",
              "      <td>3</td>\n",
              "      <td>On Hold</td>\n",
              "    </tr>\n",
              "    <tr>\n",
              "      <th>3</th>\n",
              "      <td>4</td>\n",
              "      <td>Dropped</td>\n",
              "    </tr>\n",
              "    <tr>\n",
              "      <th>4</th>\n",
              "      <td>6</td>\n",
              "      <td>Plan to Watch</td>\n",
              "    </tr>\n",
              "  </tbody>\n",
              "</table>\n",
              "</div>"
            ],
            "text/plain": [
              "   status         description\n",
              "0       1  Currently Watching\n",
              "1       2           Completed\n",
              "2       3             On Hold\n",
              "3       4             Dropped\n",
              "4       6       Plan to Watch"
            ]
          },
          "execution_count": 20,
          "metadata": {},
          "output_type": "execute_result"
        }
      ],
      "source": [
        "watching_status"
      ]
    },
    {
      "cell_type": "code",
      "execution_count": null,
      "id": "c0f7453d",
      "metadata": {
        "id": "c0f7453d"
      },
      "outputs": [],
      "source": [
        "watching_status.rename(columns = {' description': 'description'}, inplace = True)"
      ]
    },
    {
      "cell_type": "code",
      "execution_count": null,
      "id": "506a856e",
      "metadata": {
        "id": "506a856e"
      },
      "outputs": [],
      "source": [
        "user_data['watching_status'] = user_data['watching_status'].map(watching_status.set_index('status')['description']).astype('category')"
      ]
    },
    {
      "cell_type": "code",
      "execution_count": null,
      "id": "e517819b",
      "metadata": {
        "id": "e517819b",
        "outputId": "1a4542f8-a2b8-4454-c870-b167ef5366d1"
      },
      "outputs": [
        {
          "data": {
            "text/plain": [
              "10.0     7144392\n",
              "9.0     10235934\n",
              "8.0     15422150\n",
              "7.0     14244633\n",
              "6.0      7543377\n",
              "5.0      4029645\n",
              "4.0      1845854\n",
              "3.0       905700\n",
              "2.0       545339\n",
              "1.0       480688\n",
              "Name: rating, dtype: int64"
            ]
          },
          "execution_count": 23,
          "metadata": {},
          "output_type": "execute_result"
        }
      ],
      "source": [
        "user_data['rating'].value_counts().sort_index(ascending = False)"
      ]
    },
    {
      "cell_type": "code",
      "execution_count": null,
      "id": "c34d2bfe",
      "metadata": {
        "id": "c34d2bfe"
      },
      "outputs": [],
      "source": [
        "user_data['rating'] = user_data['rating'].astype('float16')\n",
        "user_data['watched_episodes'] = user_data['watched_episodes'].astype(np.uint16)\n",
        "user_data['user_id'] = user_data['user_id'].astype(np.uint32)\n",
        "user_data['anime_id'] = user_data['anime_id'].astype(np.uint16)"
      ]
    },
    {
      "cell_type": "code",
      "execution_count": null,
      "id": "55099541",
      "metadata": {
        "id": "55099541",
        "outputId": "c939df55-d18a-4144-a0b2-8afdcbdcdd41"
      },
      "outputs": [
        {
          "data": {
            "text/plain": [
              "10.0     7144392\n",
              "9.0     10235934\n",
              "8.0     15422150\n",
              "7.0     14244633\n",
              "6.0      7543377\n",
              "5.0      4029645\n",
              "4.0      1845854\n",
              "3.0       905700\n",
              "2.0       545339\n",
              "1.0       480688\n",
              "Name: rating, dtype: int64"
            ]
          },
          "execution_count": 25,
          "metadata": {},
          "output_type": "execute_result"
        }
      ],
      "source": [
        "user_data['rating'].value_counts().sort_index(ascending = False)"
      ]
    },
    {
      "cell_type": "code",
      "execution_count": null,
      "id": "dc82c095",
      "metadata": {
        "id": "dc82c095",
        "outputId": "eb02ce1d-164f-4cab-d43a-e9745af9261e"
      },
      "outputs": [
        {
          "name": "stdout",
          "output_type": "stream",
          "text": [
            "<class 'pandas.core.frame.DataFrame'>\n",
            "RangeIndex: 109224747 entries, 0 to 109224746\n",
            "Data columns (total 6 columns):\n",
            " #   Column            Dtype   \n",
            "---  ------            -----   \n",
            " 0   user_id           uint32  \n",
            " 1   anime_id          uint16  \n",
            " 2   rating            float16 \n",
            " 3   watching_status   category\n",
            " 4   watched_episodes  uint16  \n",
            " 5   anime_episodes    float32 \n",
            "dtypes: category(1), float16(1), float32(1), uint16(2), uint32(1)\n",
            "memory usage: 1.5 GB\n"
          ]
        }
      ],
      "source": [
        "user_data.info()"
      ]
    },
    {
      "cell_type": "code",
      "execution_count": null,
      "id": "8b2b40bb",
      "metadata": {
        "id": "8b2b40bb",
        "outputId": "b3e9d256-04fe-4411-ea10-d93c09357bff"
      },
      "outputs": [
        {
          "data": {
            "text/plain": [
              "Completed             0.957476\n",
              "Currently Watching    0.024580\n",
              "On Hold               0.006612\n",
              "Plan to Watch         0.005810\n",
              "Dropped               0.005521\n",
              "Name: watching_status, dtype: float64"
            ]
          },
          "execution_count": 27,
          "metadata": {},
          "output_type": "execute_result"
        }
      ],
      "source": [
        "user_data[user_data['watched_episodes'] > user_data['anime_episodes']]['watching_status'].value_counts(normalize = True)"
      ]
    },
    {
      "cell_type": "code",
      "execution_count": null,
      "id": "befc8c52",
      "metadata": {
        "id": "befc8c52"
      },
      "outputs": [],
      "source": [
        "user_data.loc[(user_data['watched_episodes'] > user_data['anime_episodes']), 'watched_episodes'] = \\\n",
        "user_data.loc[(user_data['watched_episodes'] > user_data['anime_episodes']), 'anime_episodes']"
      ]
    },
    {
      "cell_type": "code",
      "execution_count": null,
      "id": "6d1552aa",
      "metadata": {
        "id": "6d1552aa",
        "outputId": "eddece80-b8ac-44d0-e211-ce75d8e972b4"
      },
      "outputs": [
        {
          "data": {
            "text/html": [
              "<div>\n",
              "<style scoped>\n",
              "    .dataframe tbody tr th:only-of-type {\n",
              "        vertical-align: middle;\n",
              "    }\n",
              "\n",
              "    .dataframe tbody tr th {\n",
              "        vertical-align: top;\n",
              "    }\n",
              "\n",
              "    .dataframe thead th {\n",
              "        text-align: right;\n",
              "    }\n",
              "</style>\n",
              "<table border=\"1\" class=\"dataframe\">\n",
              "  <thead>\n",
              "    <tr style=\"text-align: right;\">\n",
              "      <th></th>\n",
              "      <th>user_id</th>\n",
              "      <th>anime_id</th>\n",
              "      <th>rating</th>\n",
              "      <th>watching_status</th>\n",
              "      <th>watched_episodes</th>\n",
              "      <th>anime_episodes</th>\n",
              "    </tr>\n",
              "  </thead>\n",
              "  <tbody>\n",
              "    <tr>\n",
              "      <th>0</th>\n",
              "      <td>0</td>\n",
              "      <td>67</td>\n",
              "      <td>9.0</td>\n",
              "      <td>Currently Watching</td>\n",
              "      <td>1</td>\n",
              "      <td>24.0</td>\n",
              "    </tr>\n",
              "    <tr>\n",
              "      <th>1</th>\n",
              "      <td>0</td>\n",
              "      <td>6702</td>\n",
              "      <td>7.0</td>\n",
              "      <td>Currently Watching</td>\n",
              "      <td>4</td>\n",
              "      <td>175.0</td>\n",
              "    </tr>\n",
              "    <tr>\n",
              "      <th>2</th>\n",
              "      <td>0</td>\n",
              "      <td>242</td>\n",
              "      <td>10.0</td>\n",
              "      <td>Currently Watching</td>\n",
              "      <td>4</td>\n",
              "      <td>13.0</td>\n",
              "    </tr>\n",
              "    <tr>\n",
              "      <th>3</th>\n",
              "      <td>0</td>\n",
              "      <td>4898</td>\n",
              "      <td>NaN</td>\n",
              "      <td>Currently Watching</td>\n",
              "      <td>1</td>\n",
              "      <td>24.0</td>\n",
              "    </tr>\n",
              "    <tr>\n",
              "      <th>4</th>\n",
              "      <td>0</td>\n",
              "      <td>21</td>\n",
              "      <td>10.0</td>\n",
              "      <td>Currently Watching</td>\n",
              "      <td>0</td>\n",
              "      <td>NaN</td>\n",
              "    </tr>\n",
              "  </tbody>\n",
              "</table>\n",
              "</div>"
            ],
            "text/plain": [
              "   user_id  anime_id  rating     watching_status  watched_episodes  \\\n",
              "0        0        67     9.0  Currently Watching                 1   \n",
              "1        0      6702     7.0  Currently Watching                 4   \n",
              "2        0       242    10.0  Currently Watching                 4   \n",
              "3        0      4898     NaN  Currently Watching                 1   \n",
              "4        0        21    10.0  Currently Watching                 0   \n",
              "\n",
              "   anime_episodes  \n",
              "0            24.0  \n",
              "1           175.0  \n",
              "2            13.0  \n",
              "3            24.0  \n",
              "4             NaN  "
            ]
          },
          "execution_count": 29,
          "metadata": {},
          "output_type": "execute_result"
        }
      ],
      "source": [
        "user_data.head()"
      ]
    },
    {
      "cell_type": "code",
      "execution_count": null,
      "id": "2681adbc",
      "metadata": {
        "id": "2681adbc"
      },
      "outputs": [],
      "source": [
        "user_data.drop(['anime_episodes'], axis = 1, inplace = True)"
      ]
    },
    {
      "cell_type": "code",
      "execution_count": null,
      "id": "65bb2fbe",
      "metadata": {
        "id": "65bb2fbe",
        "outputId": "67fa6e93-fd3d-4c55-bc39-362196a7f565"
      },
      "outputs": [
        {
          "data": {
            "text/html": [
              "<div>\n",
              "<style scoped>\n",
              "    .dataframe tbody tr th:only-of-type {\n",
              "        vertical-align: middle;\n",
              "    }\n",
              "\n",
              "    .dataframe tbody tr th {\n",
              "        vertical-align: top;\n",
              "    }\n",
              "\n",
              "    .dataframe thead th {\n",
              "        text-align: right;\n",
              "    }\n",
              "</style>\n",
              "<table border=\"1\" class=\"dataframe\">\n",
              "  <thead>\n",
              "    <tr style=\"text-align: right;\">\n",
              "      <th></th>\n",
              "      <th>user_id</th>\n",
              "      <th>anime_id</th>\n",
              "      <th>rating</th>\n",
              "      <th>watching_status</th>\n",
              "      <th>watched_episodes</th>\n",
              "    </tr>\n",
              "  </thead>\n",
              "  <tbody>\n",
              "    <tr>\n",
              "      <th>0</th>\n",
              "      <td>0</td>\n",
              "      <td>67</td>\n",
              "      <td>9.0</td>\n",
              "      <td>Currently Watching</td>\n",
              "      <td>1</td>\n",
              "    </tr>\n",
              "    <tr>\n",
              "      <th>1</th>\n",
              "      <td>0</td>\n",
              "      <td>6702</td>\n",
              "      <td>7.0</td>\n",
              "      <td>Currently Watching</td>\n",
              "      <td>4</td>\n",
              "    </tr>\n",
              "    <tr>\n",
              "      <th>2</th>\n",
              "      <td>0</td>\n",
              "      <td>242</td>\n",
              "      <td>10.0</td>\n",
              "      <td>Currently Watching</td>\n",
              "      <td>4</td>\n",
              "    </tr>\n",
              "    <tr>\n",
              "      <th>3</th>\n",
              "      <td>0</td>\n",
              "      <td>4898</td>\n",
              "      <td>NaN</td>\n",
              "      <td>Currently Watching</td>\n",
              "      <td>1</td>\n",
              "    </tr>\n",
              "    <tr>\n",
              "      <th>4</th>\n",
              "      <td>0</td>\n",
              "      <td>21</td>\n",
              "      <td>10.0</td>\n",
              "      <td>Currently Watching</td>\n",
              "      <td>0</td>\n",
              "    </tr>\n",
              "  </tbody>\n",
              "</table>\n",
              "</div>"
            ],
            "text/plain": [
              "   user_id  anime_id  rating     watching_status  watched_episodes\n",
              "0        0        67     9.0  Currently Watching                 1\n",
              "1        0      6702     7.0  Currently Watching                 4\n",
              "2        0       242    10.0  Currently Watching                 4\n",
              "3        0      4898     NaN  Currently Watching                 1\n",
              "4        0        21    10.0  Currently Watching                 0"
            ]
          },
          "execution_count": 31,
          "metadata": {},
          "output_type": "execute_result"
        }
      ],
      "source": [
        "user_data.head()"
      ]
    },
    {
      "cell_type": "code",
      "execution_count": null,
      "id": "d1710266",
      "metadata": {
        "id": "d1710266"
      },
      "outputs": [],
      "source": [
        "user_data.to_pickle('dataset\\\\created_data\\\\user_step1.pkl')"
      ]
    },
    {
      "cell_type": "code",
      "execution_count": null,
      "id": "fc716289",
      "metadata": {
        "id": "fc716289"
      },
      "outputs": [],
      "source": [
        "df = pd.read_pickle('dataset\\\\created_data\\\\user_step1.pkl')"
      ]
    },
    {
      "cell_type": "code",
      "execution_count": null,
      "id": "5783bdcd",
      "metadata": {
        "id": "5783bdcd",
        "outputId": "d27d35df-79f8-4ed3-f4e2-e7c2d5dca2e3"
      },
      "outputs": [
        {
          "data": {
            "text/plain": [
              "True"
            ]
          },
          "execution_count": 34,
          "metadata": {},
          "output_type": "execute_result"
        }
      ],
      "source": [
        "df.equals(user_data)"
      ]
    },
    {
      "cell_type": "code",
      "execution_count": null,
      "id": "a9bf9c73",
      "metadata": {
        "id": "a9bf9c73"
      },
      "outputs": [],
      "source": []
    }
  ],
  "metadata": {
    "kernelspec": {
      "display_name": "Python 3 (ipykernel)",
      "language": "python",
      "name": "python3"
    },
    "language_info": {
      "codemirror_mode": {
        "name": "ipython",
        "version": 3
      },
      "file_extension": ".py",
      "mimetype": "text/x-python",
      "name": "python",
      "nbconvert_exporter": "python",
      "pygments_lexer": "ipython3",
      "version": "3.9.9"
    },
    "colab": {
      "provenance": [],
      "include_colab_link": true
    }
  },
  "nbformat": 4,
  "nbformat_minor": 5
}